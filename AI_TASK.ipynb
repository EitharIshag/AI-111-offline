{
  "nbformat": 4,
  "nbformat_minor": 0,
  "metadata": {
    "colab": {
      "provenance": []
    },
    "kernelspec": {
      "name": "python3",
      "display_name": "Python 3"
    },
    "language_info": {
      "name": "python"
    }
  },
  "cells": [
    {
      "cell_type": "markdown",
      "source": [
        "Write a Python program that prin to the console."
      ],
      "metadata": {
        "id": "Cb4QRRqHHoZe"
      }
    },
    {
      "cell_type": "code",
      "source": [
        "print(\"hello\",\"world!\",sep=\",\",end=\"!\")"
      ],
      "metadata": {
        "colab": {
          "base_uri": "https://localhost:8080/"
        },
        "id": "wBXvWS75Hv6P",
        "outputId": "6d6b8dd0-0562-49db-bd1d-3ef13a04bc98"
      },
      "execution_count": null,
      "outputs": [
        {
          "output_type": "stream",
          "name": "stdout",
          "text": [
            "hello,world!!"
          ]
        }
      ]
    },
    {
      "cell_type": "markdown",
      "source": [
        "\n",
        "Given two integers a and b, write a Python function to calculate the remainder when a is divided by b without using the % operator."
      ],
      "metadata": {
        "id": "WbFrVJosHwoV"
      }
    },
    {
      "cell_type": "code",
      "source": [
        "a=int(input(\"enter the value of a \"))\n",
        "b=int(input(\"enter the value of b\"))\n",
        "c=a//b\n",
        "print(a-(c*b))"
      ],
      "metadata": {
        "colab": {
          "base_uri": "https://localhost:8080/"
        },
        "id": "tvpE9tvCH8bl",
        "outputId": "a9ab8881-61af-41fc-bcc6-8491f1d1de66"
      },
      "execution_count": null,
      "outputs": [
        {
          "output_type": "stream",
          "name": "stdout",
          "text": [
            "enter the value of a 2\n",
            "enter the value of b5\n",
            "2\n"
          ]
        }
      ]
    },
    {
      "cell_type": "markdown",
      "source": [
        "\n",
        "Write a Python program to find the sum of all numbers from 1 to 100 using a while loop."
      ],
      "metadata": {
        "id": "0UHRfLWBfEfE"
      }
    },
    {
      "cell_type": "code",
      "source": [
        "sum=0\n",
        "x=1\n",
        "while x<=100:\n",
        "  sum+=x\n",
        "  x+=1\n",
        "  print(sum)\n"
      ],
      "metadata": {
        "colab": {
          "base_uri": "https://localhost:8080/"
        },
        "id": "8TBOqE9OYkio",
        "outputId": "3d79784f-020a-4048-9cf1-d8b74d7e462a"
      },
      "execution_count": null,
      "outputs": [
        {
          "output_type": "stream",
          "name": "stdout",
          "text": [
            "1\n",
            "3\n",
            "6\n",
            "10\n",
            "15\n",
            "21\n",
            "28\n",
            "36\n",
            "45\n",
            "55\n",
            "66\n",
            "78\n",
            "91\n",
            "105\n",
            "120\n",
            "136\n",
            "153\n",
            "171\n",
            "190\n",
            "210\n",
            "231\n",
            "253\n",
            "276\n",
            "300\n",
            "325\n",
            "351\n",
            "378\n",
            "406\n",
            "435\n",
            "465\n",
            "496\n",
            "528\n",
            "561\n",
            "595\n",
            "630\n",
            "666\n",
            "703\n",
            "741\n",
            "780\n",
            "820\n",
            "861\n",
            "903\n",
            "946\n",
            "990\n",
            "1035\n",
            "1081\n",
            "1128\n",
            "1176\n",
            "1225\n",
            "1275\n",
            "1326\n",
            "1378\n",
            "1431\n",
            "1485\n",
            "1540\n",
            "1596\n",
            "1653\n",
            "1711\n",
            "1770\n",
            "1830\n",
            "1891\n",
            "1953\n",
            "2016\n",
            "2080\n",
            "2145\n",
            "2211\n",
            "2278\n",
            "2346\n",
            "2415\n",
            "2485\n",
            "2556\n",
            "2628\n",
            "2701\n",
            "2775\n",
            "2850\n",
            "2926\n",
            "3003\n",
            "3081\n",
            "3160\n",
            "3240\n",
            "3321\n",
            "3403\n",
            "3486\n",
            "3570\n",
            "3655\n",
            "3741\n",
            "3828\n",
            "3916\n",
            "4005\n",
            "4095\n",
            "4186\n",
            "4278\n",
            "4371\n",
            "4465\n",
            "4560\n",
            "4656\n",
            "4753\n",
            "4851\n",
            "4950\n",
            "5050\n"
          ]
        }
      ]
    },
    {
      "cell_type": "markdown",
      "source": [
        "Write a Python program that checks if a given number is even or odd and prints the result."
      ],
      "metadata": {
        "id": "rsuBuqwGH9Yt"
      }
    },
    {
      "cell_type": "code",
      "source": [
        "sum=n = int(input('Enter a number '))\n",
        "if n % 2==0:\n",
        "  print(\"Even\")\n",
        "else:\n",
        "  print(\"Odd\")"
      ],
      "metadata": {
        "colab": {
          "base_uri": "https://localhost:8080/"
        },
        "id": "HVLgvPP1ILOm",
        "outputId": "20c11a61-ff11-44f6-e661-8aa10f0463b3"
      },
      "execution_count": null,
      "outputs": [
        {
          "output_type": "stream",
          "name": "stdout",
          "text": [
            "Enter a number 2\n",
            "Even\n"
          ]
        }
      ]
    },
    {
      "cell_type": "markdown",
      "source": [
        "\n",
        "Write a Python function to remove all duplicates from a sorted list of integers in-place, and return the modified list."
      ],
      "metadata": {
        "id": "9CapZObtIL7w"
      }
    },
    {
      "cell_type": "code",
      "source": [
        "i=[1,4,5,6,3,7,5]\n",
        "print(list(set(i)))"
      ],
      "metadata": {
        "colab": {
          "base_uri": "https://localhost:8080/"
        },
        "id": "Lp60gdawIba9",
        "outputId": "006b9263-d555-4142-d8e6-1767710ebb27"
      },
      "execution_count": null,
      "outputs": [
        {
          "output_type": "stream",
          "name": "stdout",
          "text": [
            "[1, 3, 4, 5, 6, 7]\n"
          ]
        }
      ]
    },
    {
      "cell_type": "markdown",
      "source": [
        "Write a Python function that takes a string as input and returns the number of vowels in the string."
      ],
      "metadata": {
        "id": "t28T1PdjIb6f"
      }
    },
    {
      "cell_type": "code",
      "source": [
        "word=str(input(\"enter the word\"))\n",
        "vowls=\"aeiou\"\n",
        "count=0\n",
        "for i in word:\n",
        "  if i in vowls:\n",
        "    count+=1\n",
        "    print(count)\n"
      ],
      "metadata": {
        "colab": {
          "base_uri": "https://localhost:8080/"
        },
        "id": "aU-te6tUIfdf",
        "outputId": "599661ee-d5bd-4f33-80a4-183e158610d3"
      },
      "execution_count": null,
      "outputs": [
        {
          "output_type": "stream",
          "name": "stdout",
          "text": [
            "enter the wordeithar\n",
            "1\n",
            "2\n",
            "3\n"
          ]
        }
      ]
    },
    {
      "cell_type": "markdown",
      "source": [
        "\n",
        "Write a Python program that reads two numbers from the user and prints their sum."
      ],
      "metadata": {
        "id": "gCDM5jwJIgLW"
      }
    },
    {
      "cell_type": "code",
      "source": [
        "a=int(input(\"enter 1st number:\"))\n",
        "b=int(input(\"enter 2nd number:\"))\n",
        "sum=a+b\n",
        "print(sum)"
      ],
      "metadata": {
        "colab": {
          "base_uri": "https://localhost:8080/"
        },
        "id": "hNGOZDqdIjW2",
        "outputId": "607a9e81-5351-416e-9f12-c13ee2f3b146"
      },
      "execution_count": null,
      "outputs": [
        {
          "output_type": "stream",
          "name": "stdout",
          "text": [
            "enter 1st number:2\n",
            "enter 2nd number:5\n",
            "7\n"
          ]
        }
      ]
    },
    {
      "cell_type": "markdown",
      "source": [
        "\n",
        "Write a Python function to check if a given number is a power of two."
      ],
      "metadata": {
        "id": "mqNW9lEFIjyK"
      }
    },
    {
      "cell_type": "code",
      "source": [
        "number=int(input(\"enter the number\"))\n",
        "power=1\n",
        "found=False\n",
        "while power<number:\n",
        "  if 2**power==number:\n",
        "     found=True\n",
        "  break\n",
        "power+=1\n",
        "if found:\n",
        "   print(\"is power of 2\")\n",
        "else:\n",
        "   print(\"is not power of 2\")\n",
        "\n",
        "\n",
        "\n"
      ],
      "metadata": {
        "colab": {
          "base_uri": "https://localhost:8080/"
        },
        "id": "U0VdtaISInfk",
        "outputId": "31f96c6d-66dd-42c7-dacf-febf2482f6bd"
      },
      "execution_count": null,
      "outputs": [
        {
          "output_type": "stream",
          "name": "stdout",
          "text": [
            "enter the number44\n",
            "is not power of 2\n"
          ]
        }
      ]
    },
    {
      "cell_type": "markdown",
      "source": [
        "Write a Python program that accepts a number from the user and checks if it is a prime number."
      ],
      "metadata": {
        "id": "lZEemDw7Iphh"
      }
    },
    {
      "cell_type": "code",
      "source": [
        "num=int(input(\"enter a number:\"))\n",
        "i=1\n",
        "for i in range (2,num):\n",
        "  if num%i==0:\n",
        "    print(\"not prime\")\n",
        "    break\n",
        "  else:\n",
        "      print(\"is prime\")\n",
        "      break\n",
        "\n",
        "\n"
      ],
      "metadata": {
        "colab": {
          "base_uri": "https://localhost:8080/"
        },
        "id": "cLQJ_phPIsu-",
        "outputId": "49cdee70-1378-41e7-9a59-1b40da4e8cbb"
      },
      "execution_count": null,
      "outputs": [
        {
          "output_type": "stream",
          "name": "stdout",
          "text": [
            "enter a number:22\n",
            "not prime\n"
          ]
        }
      ]
    },
    {
      "cell_type": "markdown",
      "source": [
        "\n",
        "Write a Python program to print all prime numbers between 1 to 100."
      ],
      "metadata": {
        "id": "rrGrBXEIItN8"
      }
    },
    {
      "cell_type": "code",
      "source": [
        "x=1\n",
        "while x<=100:\n",
        "  i=2\n",
        "  while i<x:\n",
        "    if x%i==0:\n",
        "      break\n",
        "      i=+1\n",
        "    else:\n",
        "        print(x)\n",
        "        x+=1\n",
        "\n"
      ],
      "metadata": {
        "colab": {
          "base_uri": "https://localhost:8080/",
          "height": 211
        },
        "id": "RTlSCFyyI2G8",
        "outputId": "395b38cc-23d5-4111-a5b7-6edb49fc5c75"
      },
      "execution_count": null,
      "outputs": [
        {
          "output_type": "error",
          "ename": "KeyboardInterrupt",
          "evalue": "",
          "traceback": [
            "\u001b[0;31m---------------------------------------------------------------------------\u001b[0m",
            "\u001b[0;31mKeyboardInterrupt\u001b[0m                         Traceback (most recent call last)",
            "\u001b[0;32m<ipython-input-34-3534b1d66d17>\u001b[0m in \u001b[0;36m<cell line: 2>\u001b[0;34m()\u001b[0m\n\u001b[1;32m      2\u001b[0m \u001b[0;32mwhile\u001b[0m \u001b[0mx\u001b[0m\u001b[0;34m<=\u001b[0m\u001b[0;36m100\u001b[0m\u001b[0;34m:\u001b[0m\u001b[0;34m\u001b[0m\u001b[0;34m\u001b[0m\u001b[0m\n\u001b[1;32m      3\u001b[0m   \u001b[0mi\u001b[0m\u001b[0;34m=\u001b[0m\u001b[0;36m2\u001b[0m\u001b[0;34m\u001b[0m\u001b[0;34m\u001b[0m\u001b[0m\n\u001b[0;32m----> 4\u001b[0;31m   \u001b[0;32mwhile\u001b[0m \u001b[0mi\u001b[0m\u001b[0;34m<\u001b[0m\u001b[0mx\u001b[0m\u001b[0;34m:\u001b[0m\u001b[0;34m\u001b[0m\u001b[0;34m\u001b[0m\u001b[0m\n\u001b[0m\u001b[1;32m      5\u001b[0m     \u001b[0;32mif\u001b[0m \u001b[0mx\u001b[0m\u001b[0;34m%\u001b[0m\u001b[0mi\u001b[0m\u001b[0;34m==\u001b[0m\u001b[0;36m0\u001b[0m\u001b[0;34m:\u001b[0m\u001b[0;34m\u001b[0m\u001b[0;34m\u001b[0m\u001b[0m\n\u001b[1;32m      6\u001b[0m       \u001b[0;32mbreak\u001b[0m\u001b[0;34m\u001b[0m\u001b[0;34m\u001b[0m\u001b[0m\n",
            "\u001b[0;31mKeyboardInterrupt\u001b[0m: "
          ]
        }
      ]
    },
    {
      "cell_type": "markdown",
      "source": [
        "Write a Python function to sort a list of integers in ascending order using the bubble sort algorithm."
      ],
      "metadata": {
        "id": "Md8TLjFbI2gR"
      }
    },
    {
      "cell_type": "code",
      "source": [],
      "metadata": {
        "id": "NvIvl9-YI35f"
      },
      "execution_count": null,
      "outputs": []
    },
    {
      "cell_type": "markdown",
      "source": [
        "Write a Python program that calculates the factorial of a number entered by the u"
      ],
      "metadata": {
        "id": "ZaLfCqOEI9Hm"
      }
    },
    {
      "cell_type": "code",
      "source": [],
      "metadata": {
        "id": "hODcYiqoJDPG"
      },
      "execution_count": null,
      "outputs": []
    },
    {
      "cell_type": "markdown",
      "source": [
        "Write a Python function to perform integer division without using the // operator or multiplication, division, or modulus operators."
      ],
      "metadata": {
        "id": "I8oVrIJxJDyT"
      }
    },
    {
      "cell_type": "code",
      "source": [],
      "metadata": {
        "id": "9FcNm0tXJJfu"
      },
      "execution_count": null,
      "outputs": []
    },
    {
      "cell_type": "markdown",
      "source": [
        "Write a Python program to simulate a simple ATM that allows a user to check balance, withdraw money, and deposit money based on user input."
      ],
      "metadata": {
        "id": "UuHSHHeJJJ7S"
      }
    },
    {
      "cell_type": "code",
      "source": [],
      "metadata": {
        "id": "JiMgWyhZJPK8"
      },
      "execution_count": null,
      "outputs": []
    }
  ]
}