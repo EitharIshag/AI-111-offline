{
  "nbformat": 4,
  "nbformat_minor": 0,
  "metadata": {
    "colab": {
      "provenance": [],
      "include_colab_link": true
    },
    "kernelspec": {
      "name": "python3",
      "display_name": "Python 3"
    },
    "language_info": {
      "name": "python"
    }
  },
  "cells": [
    {
      "cell_type": "markdown",
      "metadata": {
        "id": "view-in-github",
        "colab_type": "text"
      },
      "source": [
        "<a href=\"https://colab.research.google.com/github/EitharIshag/AI-111-offline/blob/main/Copy_of_Assignment_2.ipynb\" target=\"_parent\"><img src=\"https://colab.research.google.com/assets/colab-badge.svg\" alt=\"Open In Colab\"/></a>"
      ]
    },
    {
      "cell_type": "markdown",
      "source": [
        "**Write a Python function to perform linear search on a list**"
      ],
      "metadata": {
        "id": "zICmOr3xM7P3"
      }
    },
    {
      "cell_type": "code",
      "source": [
        "def linear_search(list, x):\n",
        "  for i in range(len(list)):\n",
        "    if list[i]==x:\n",
        "      return i\n",
        "      return -1\n"
      ],
      "metadata": {
        "id": "OHAie4ZsNkge"
      },
      "execution_count": null,
      "outputs": []
    },
    {
      "cell_type": "markdown",
      "source": [
        "**Modify the function to return the index of all occurrences of the search element.\n",
        "t**"
      ],
      "metadata": {
        "id": "9gt2NeSINAee"
      }
    },
    {
      "cell_type": "code",
      "source": [
        "my_list=[1 ,2 ,3 ,4 ,1 ,5 ,4]\n",
        "def all_indices(list_, item):\n",
        "    indices = []\n",
        "    for index, value in enumerate(list_):\n",
        "        if value == item:\n",
        "            indices.append(index)\n",
        "    return indices\n",
        "    print (all_indices(my_list, 4))"
      ],
      "metadata": {
        "id": "Drr34lZZNlcd"
      },
      "execution_count": null,
      "outputs": []
    },
    {
      "cell_type": "markdown",
      "source": [
        "**Create a program to find the maximum element in a list using linear search.**"
      ],
      "metadata": {
        "id": "15VW81ZmNnYt"
      }
    },
    {
      "cell_type": "code",
      "source": [
        "def findMaximum(x, low, high):\n",
        "    max = x[low]\n",
        "    i = low\n",
        "    for i in range(high+1):\n",
        "        if x[i] > max:\n",
        "            max = x[i]\n",
        "    return max"
      ],
      "metadata": {
        "id": "Cv04SYmZNvfU"
      },
      "execution_count": null,
      "outputs": []
    },
    {
      "cell_type": "markdown",
      "source": [
        "**Implement binary search iteratively in Python**"
      ],
      "metadata": {
        "id": "CC1d9lWHNy4G"
      }
    },
    {
      "cell_type": "code",
      "source": [
        "def binary_search(arr, x):\n",
        " low = 0\n",
        " high = len(arr) - 1\n",
        " mid = 0\n",
        " while low <= high:\n",
        "        mid = (high + low) // 2\n",
        "        if arr[mid] < x:\n",
        "            low = mid + 1\n",
        "        elif arr[mid] > x:\n",
        "            high = mid - 1\n",
        "        else:\n",
        "            return mid\n",
        "            erturn -1\n",
        "\n"
      ],
      "metadata": {
        "id": "qNlprj2ON2sN"
      },
      "execution_count": null,
      "outputs": []
    },
    {
      "cell_type": "markdown",
      "source": [
        "**Implement binary search recursively in Python**"
      ],
      "metadata": {
        "id": "zdFByPpjN9VF"
      }
    },
    {
      "cell_type": "code",
      "source": [
        "def binary_search(arr, low, high, x):\n",
        "\n",
        "    if high >= low:\n",
        "        mid = (high + low) // 2\n",
        "        if arr[mid] == x:\n",
        "            return mid\n",
        "        elif arr[mid] > x:\n",
        "            return binary_search(arr, low, mid - 1, x)\n",
        "        else:\n",
        "            return binary_search(arr, mid + 1, high, x)\n",
        "\n",
        "    else:\n",
        "        return -1\n",
        "arr = [ 2, 3, 4, 10, 40 ]\n",
        "x = 10\n",
        "result = binary_search(arr, 0, len(arr)-1, x)\n",
        "if result != -1:\n",
        "    print(\"Element is present at index\", str(result))\n",
        "else:\n",
        "    print(\"Element is not present in array\")"
      ],
      "metadata": {
        "id": "-ukDAxmLOAh9",
        "colab": {
          "base_uri": "https://localhost:8080/"
        },
        "outputId": "efb4505e-4105-429e-b38e-d8a0012144b5"
      },
      "execution_count": null,
      "outputs": [
        {
          "output_type": "stream",
          "name": "stdout",
          "text": [
            "Element is present at index 3\n"
          ]
        }
      ]
    },
    {
      "cell_type": "markdown",
      "source": [
        "**Write a program to check if a list is sorted in ascending order using binary search**"
      ],
      "metadata": {
        "id": "XfCbhOl7ODkc"
      }
    },
    {
      "cell_type": "code",
      "source": [
        "def list_is_sorted(arr):\n",
        "  for i in range(len(arr)):\n",
        "   if arr[i]>arr[i+1]:\n",
        "    return False\n",
        "    return true\n"
      ],
      "metadata": {
        "id": "f4I1O1IhOGEd"
      },
      "execution_count": null,
      "outputs": []
    },
    {
      "cell_type": "markdown",
      "source": [
        "**Write a Python program to calculate the factorial of a number using a for loop**"
      ],
      "metadata": {
        "id": "5AxShFTYOI90"
      }
    },
    {
      "cell_type": "code",
      "source": [
        "n = int(input(\"Enter any number: \"))\n",
        "f = 1\n",
        "for i in range(n, 0, -1):\n",
        "    f *= i\n",
        "print(\"Factorial is\", f)\n",
        "\n"
      ],
      "metadata": {
        "id": "klPJU-ktOL99",
        "colab": {
          "base_uri": "https://localhost:8080/"
        },
        "outputId": "26c136af-4786-4a0a-def1-8ddb49a88156"
      },
      "execution_count": null,
      "outputs": [
        {
          "output_type": "stream",
          "name": "stdout",
          "text": [
            "Enter any number: 10\n",
            "Factorial is 3628800\n"
          ]
        }
      ]
    },
    {
      "cell_type": "markdown",
      "source": [
        "**Create a program to generate the Fibonacci sequence up to a certain number of terms using a for loop**"
      ],
      "metadata": {
        "id": "zSD3eH32OOzk"
      }
    },
    {
      "cell_type": "code",
      "source": [
        "def fib(maxval):\n",
        "  a=0\n",
        "  b=1\n",
        "\n",
        "  while (b < maxval):\n",
        "    print(b)\n",
        "    (a,b) = (b,a+b)\n",
        "    fib(100)\n",
        "\n"
      ],
      "metadata": {
        "id": "dz4mWwn-OSG0"
      },
      "execution_count": 14,
      "outputs": []
    },
    {
      "cell_type": "markdown",
      "source": [
        "**Write a function to compute the sum of all elements in a list using a for loop**"
      ],
      "metadata": {
        "id": "e7q768hsOUvs"
      }
    },
    {
      "cell_type": "code",
      "source": [
        "total=0\n",
        "list1=[11,5,17,18,23]\n",
        "for ele in range(0,len(list1)):\n",
        "  total=total+list1[ele]\n",
        "  print(\"Sum of all elements in given list: \", total)"
      ],
      "metadata": {
        "id": "hbJ3q5GDOXc0",
        "colab": {
          "base_uri": "https://localhost:8080/"
        },
        "outputId": "5a2bc18e-e777-4e24-9edc-073d5bc28d53"
      },
      "execution_count": 15,
      "outputs": [
        {
          "output_type": "stream",
          "name": "stdout",
          "text": [
            "Sum of all elements in given list:  11\n",
            "Sum of all elements in given list:  16\n",
            "Sum of all elements in given list:  33\n",
            "Sum of all elements in given list:  51\n",
            "Sum of all elements in given list:  74\n"
          ]
        }
      ]
    },
    {
      "cell_type": "markdown",
      "source": [
        "**Write a Python function to check if a number is prime**"
      ],
      "metadata": {
        "id": "Xc87j9nmObmM"
      }
    },
    {
      "cell_type": "code",
      "source": [
        "num = 11\n",
        "if num > 1:\n",
        "    for i in range(2, (num//2)+1):\n",
        "        if (num % i) == 0:\n",
        "            print(num, \"is not a prime number\")\n",
        "            break\n",
        "    else:\n",
        "        print(num, \"is a prime number\")\n",
        "else:\n",
        "    print(num, \"is not a prime number\")"
      ],
      "metadata": {
        "id": "VmxNLFacOfFk",
        "colab": {
          "base_uri": "https://localhost:8080/"
        },
        "outputId": "0422a15f-bbda-48ed-a975-57b2f0762267"
      },
      "execution_count": 16,
      "outputs": [
        {
          "output_type": "stream",
          "name": "stdout",
          "text": [
            "11 is a prime number\n"
          ]
        }
      ]
    },
    {
      "cell_type": "markdown",
      "source": [
        "**Create a function to reverse a string using recursion**"
      ],
      "metadata": {
        "id": "fPpLblWXOhDU"
      }
    },
    {
      "cell_type": "code",
      "source": [
        "string = \"Hello World\"\n",
        "def reversing_string(string):\n",
        "    if (string == \"\"):\n",
        "        return \"\"\n",
        "    return reversing_string(string[1:]) + string[0]\n",
        "str = reversing_string(string)\n",
        "print(str)"
      ],
      "metadata": {
        "id": "ysB4Q620Oj40",
        "colab": {
          "base_uri": "https://localhost:8080/"
        },
        "outputId": "6c27414b-f1c7-447d-e5f9-10aeb0098d33"
      },
      "execution_count": 17,
      "outputs": [
        {
          "output_type": "stream",
          "name": "stdout",
          "text": [
            "dlroW olleH\n"
          ]
        }
      ]
    },
    {
      "cell_type": "markdown",
      "source": [
        "**Write a program that takes a list of integers and returns the largest number using a function**"
      ],
      "metadata": {
        "id": "4qLP9xYTOltk"
      }
    },
    {
      "cell_type": "code",
      "source": [
        "def largest(arr, n):\n",
        "  max =arr[0]\n",
        "  for i in range(1,n):\n",
        "    if arr[i]>max:\n",
        "      max=arr[i]\n",
        "      return max\n",
        "      arr=[10,324,45,90,9808]\n",
        "      n=len(arr)\n",
        "      ans=largest(arr,n)\n",
        "      print(\"largest in given array is\",ans)"
      ],
      "metadata": {
        "id": "9wJQseoeOnis"
      },
      "execution_count": 18,
      "outputs": []
    },
    {
      "cell_type": "markdown",
      "source": [
        "**Implement selection sort using a function and demonstrate its usage**"
      ],
      "metadata": {
        "id": "2ds4zQmGOpv0"
      }
    },
    {
      "cell_type": "code",
      "source": [
        "A = [64, 25, 12, 22, 11]\n",
        "for i in range(len(A)):\n",
        "  min_idx = i\n",
        "for j in range(i+1, len(A)):\n",
        "  if A[min_idx] > A[j]:\n",
        "    min_idx = j\n",
        "    A[i], A[min_idx] = A[min_idx], A[i]\n",
        "print (\"Sorted array\")\n",
        "for i in range(len(A)):\n",
        "    print(A[i],end=\" \")\n"
      ],
      "metadata": {
        "id": "rYSs7DnOasEJ",
        "colab": {
          "base_uri": "https://localhost:8080/"
        },
        "outputId": "051495c9-4d22-4f8f-fcb9-40a2107b45f4"
      },
      "execution_count": 22,
      "outputs": [
        {
          "output_type": "stream",
          "name": "stdout",
          "text": [
            "Sorted array\n",
            "64 25 12 22 11 "
          ]
        }
      ]
    },
    {
      "cell_type": "markdown",
      "source": [
        "**Create a program that uses a function to find the intersection of two lists.**"
      ],
      "metadata": {
        "id": "9d9LdXoRatvh"
      }
    },
    {
      "cell_type": "code",
      "source": [
        "def intersection(lst1, lst2):\n",
        "\n",
        "    temp = set(lst2)\n",
        "    lst3 = [value for value in lst1 if value in temp]\n",
        "    return lst3\n",
        "\n",
        "lst1 = [9, 9, 74, 21, 45, 11, 63]\n",
        "lst2 = [4, 9, 1, 17, 11, 26, 28, 28, 26, 66, 91]\n",
        "print(intersection(lst1, lst2))"
      ],
      "metadata": {
        "colab": {
          "base_uri": "https://localhost:8080/"
        },
        "id": "piScKEwMYQvd",
        "outputId": "62baec7e-f50d-486c-86d9-e595c226061f"
      },
      "execution_count": 23,
      "outputs": [
        {
          "output_type": "stream",
          "name": "stdout",
          "text": [
            "[9, 9, 11]\n"
          ]
        }
      ]
    }
  ]
}